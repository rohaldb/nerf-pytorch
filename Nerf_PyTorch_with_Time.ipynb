{
  "nbformat": 4,
  "nbformat_minor": 0,
  "metadata": {
    "colab": {
      "name": "Nerf PyTorch with Time.ipynb",
      "provenance": [],
      "collapsed_sections": []
    },
    "kernelspec": {
      "name": "python3",
      "display_name": "Python 3"
    },
    "language_info": {
      "name": "python"
    },
    "accelerator": "GPU"
  },
  "cells": [
    {
      "cell_type": "markdown",
      "metadata": {
        "id": "O_VyiI1VckBL"
      },
      "source": [
        "### Nerf Pytorch\n",
        "This file runs the standard nerf model on a dynamic scene."
      ]
    },
    {
      "cell_type": "code",
      "metadata": {
        "id": "byKfaHAxzLFd"
      },
      "source": [
        "!git clone https://github.com/rohaldb/nerf-pytorch.git\n",
        "%cd nerf-pytorch\n",
        "!git checkout time\n",
        "!pip install -r requirements.txt"
      ],
      "execution_count": null,
      "outputs": []
    },
    {
      "cell_type": "code",
      "metadata": {
        "id": "ubHa_PtiL1Lt"
      },
      "source": [
        "!gdown https://drive.google.com/uc?id=12xA1xKZ7QHBl4-7oK2TyOATkPQk0vIJA\n",
        "!unzip \"nerf_data.zip\"; rm \"nerf_data.zip\""
      ],
      "execution_count": null,
      "outputs": []
    },
    {
      "cell_type": "code",
      "metadata": {
        "id": "dGG6Yyr_Oyif",
        "colab": {
          "base_uri": "https://localhost:8080/"
        },
        "outputId": "68412591-1ced-496e-9a78-4df35d5ca8d3"
      },
      "source": [
        "#connect to google drive\n",
        "from google.colab import drive\n",
        "drive.mount('/content/gdrive')"
      ],
      "execution_count": 1,
      "outputs": [
        {
          "output_type": "stream",
          "text": [
            "Mounted at /content/gdrive\n"
          ],
          "name": "stdout"
        }
      ]
    },
    {
      "cell_type": "markdown",
      "metadata": {
        "id": "ywgdKyz-hsBQ"
      },
      "source": [
        "### Training a new model"
      ]
    },
    {
      "cell_type": "code",
      "metadata": {
        "id": "RmGzws89MEaF"
      },
      "source": [
        "#train the model\n",
        "!python run_nerf.py --config configs/kid-running.txt --i_weights 5000 --i_testset 2000 --no_batching"
      ],
      "execution_count": null,
      "outputs": []
    },
    {
      "cell_type": "code",
      "metadata": {
        "id": "eaPYQFJoWjC1"
      },
      "source": [
        "#save results\n",
        "%cp -R /content/nerf-pytorch/logs/kid-running_test/* \"/content/gdrive/My Drive/Thesis/Nerf with Time/Training\""
      ],
      "execution_count": null,
      "outputs": []
    },
    {
      "cell_type": "code",
      "metadata": {
        "id": "MmWvEshuWnbg"
      },
      "source": [
        "%ls \"/content/gdrive/My Drive/Thesis/Nerf with Time/\""
      ],
      "execution_count": null,
      "outputs": []
    },
    {
      "cell_type": "code",
      "metadata": {
        "id": "iHbDdZzjXIRp"
      },
      "source": [
        "%rm -rf /content/nerf-pytorch/logs/kid-running_test/*.tar"
      ],
      "execution_count": null,
      "outputs": []
    },
    {
      "cell_type": "markdown",
      "metadata": {
        "id": "YO4M_TNdhu-c"
      },
      "source": [
        "### Eval a pretrained model"
      ]
    },
    {
      "cell_type": "code",
      "metadata": {
        "id": "iWJeekrayk37"
      },
      "source": [
        "#place the tar file in the appropriate place\n",
        "%cd /content/nerf-pytorch/\n",
        "!mkdir -p logs/kid-running_test\n",
        "%cd logs/kid-running_test\n",
        "!gdown https://drive.google.com/uc?id=1DzSQ10q-imW9qnPTe1fcmo87-ugIoURE"
      ],
      "execution_count": null,
      "outputs": []
    },
    {
      "cell_type": "code",
      "metadata": {
        "id": "oA8MonWeiBKl"
      },
      "source": [
        "%cd /content/nerf-pytorch\n",
        "#remember to change i_test to the appropriate indicies in run_nerf.py\n",
        "!python run_nerf.py --config configs/kid-running.txt --render_only --render_test"
      ],
      "execution_count": null,
      "outputs": []
    },
    {
      "cell_type": "code",
      "metadata": {
        "id": "tyqVqTZaiOzC"
      },
      "source": [
        "%cp -R /content/nerf-pytorch/logs/kid-running_test/renderonly_test_019999/* \"/content/gdrive/My Drive/Thesis/Nerf with Time/Eval\""
      ],
      "execution_count": 8,
      "outputs": []
    },
    {
      "cell_type": "code",
      "metadata": {
        "id": "gv-hz4b4iZYS"
      },
      "source": [
        "%ls \"/content/gdrive/My Drive/Thesis/Nerf with Time/Eval\""
      ],
      "execution_count": null,
      "outputs": []
    },
    {
      "cell_type": "code",
      "metadata": {
        "id": "ooF6HhRMimA5"
      },
      "source": [
        ""
      ],
      "execution_count": null,
      "outputs": []
    }
  ]
}