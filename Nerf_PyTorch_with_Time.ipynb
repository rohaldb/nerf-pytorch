{
  "nbformat": 4,
  "nbformat_minor": 0,
  "metadata": {
    "colab": {
      "name": "Nerf PyTorch with Time.ipynb",
      "provenance": [],
      "collapsed_sections": []
    },
    "kernelspec": {
      "name": "python3",
      "display_name": "Python 3"
    },
    "language_info": {
      "name": "python"
    },
    "accelerator": "GPU"
  },
  "cells": [
    {
      "cell_type": "markdown",
      "metadata": {
        "id": "O_VyiI1VckBL"
      },
      "source": [
        "### Nerf Pytorch\n",
        "This file runs the standard nerf model on a dynamic scene."
      ]
    },
    {
      "cell_type": "code",
      "metadata": {
        "id": "byKfaHAxzLFd"
      },
      "source": [
        "!git clone https://github.com/rohaldb/nerf-pytorch.git\n",
        "%cd nerf-pytorch\n",
        "!git checkout time\n",
        "!pip install -r requirements.txt"
      ],
      "execution_count": null,
      "outputs": []
    },
    {
      "cell_type": "code",
      "metadata": {
        "id": "ubHa_PtiL1Lt"
      },
      "source": [
        "!gdown https://drive.google.com/uc?id=12xA1xKZ7QHBl4-7oK2TyOATkPQk0vIJA\n",
        "!unzip \"nerf_data.zip\"; rm \"nerf_data.zip\""
      ],
      "execution_count": null,
      "outputs": []
    },
    {
      "cell_type": "code",
      "metadata": {
        "id": "dGG6Yyr_Oyif",
        "colab": {
          "base_uri": "https://localhost:8080/"
        },
        "outputId": "045a5304-5be5-4a94-e85f-e1e53fd790e2"
      },
      "source": [
        "#connect to google drive\n",
        "from google.colab import drive\n",
        "drive.mount('/content/gdrive')"
      ],
      "execution_count": null,
      "outputs": [
        {
          "output_type": "stream",
          "text": [
            "Mounted at /content/gdrive\n"
          ],
          "name": "stdout"
        }
      ]
    },
    {
      "cell_type": "markdown",
      "metadata": {
        "id": "ywgdKyz-hsBQ"
      },
      "source": [
        "### Training a new model"
      ]
    },
    {
      "cell_type": "code",
      "metadata": {
        "id": "RmGzws89MEaF"
      },
      "source": [
        "#train the model\n",
        "!python run_nerf.py --config configs/kid-running.txt --i_weights 500 --i_testset 1000"
      ],
      "execution_count": null,
      "outputs": []
    },
    {
      "cell_type": "code",
      "metadata": {
        "id": "kjuCvwG2xtWJ"
      },
      "source": [
        "while True:\n",
        "  pass"
      ],
      "execution_count": null,
      "outputs": []
    },
    {
      "cell_type": "code",
      "metadata": {
        "id": "eaPYQFJoWjC1"
      },
      "source": [
        "#save results\n",
        "%cp -R /content/nerf-pytorch/logs/* \"/content/gdrive/My Drive/Thesis/Nerf w Time/\""
      ],
      "execution_count": null,
      "outputs": []
    },
    {
      "cell_type": "code",
      "metadata": {
        "id": "iHbDdZzjXIRp"
      },
      "source": [
        "%rm -rf /content/nerf-pytorch/logs/kid-running_test/*.tar"
      ],
      "execution_count": null,
      "outputs": []
    },
    {
      "cell_type": "markdown",
      "metadata": {
        "id": "YO4M_TNdhu-c"
      },
      "source": [
        "### Eval a pretrained model"
      ]
    },
    {
      "cell_type": "code",
      "metadata": {
        "id": "iWJeekrayk37"
      },
      "source": [
        "#load model\n",
        "%cd /content/nerf-pytorch\n",
        "!mkdir -p \"./logs/kid-running_test/\"\n",
        "%cp -R \"/content/drive/MyDrive/Thesis/Nerf with Time/kid-running_test/.\" /content/nerf-pytorch/logs/kid-running_test"
      ],
      "execution_count": null,
      "outputs": []
    },
    {
      "cell_type": "code",
      "metadata": {
        "id": "oA8MonWeiBKl"
      },
      "source": [
        "%cd /content/nerf-pytorch\n",
        "#remember to change i_test to the appropriate indicies in run_nerf.py\n",
        "!python run_nerf.py --config configs/kid-running.txt --render_only --render_test"
      ],
      "execution_count": null,
      "outputs": []
    },
    {
      "cell_type": "code",
      "metadata": {
        "id": "tyqVqTZaiOzC"
      },
      "source": [
        "%cp -R /content/nerf-pytorch/logs/kid-running_test/renderonly_test_009999/* \"/content/gdrive/My Drive/Thesis/Nerf with Time/Eval\""
      ],
      "execution_count": null,
      "outputs": []
    },
    {
      "cell_type": "code",
      "metadata": {
        "id": "ooF6HhRMimA5"
      },
      "source": [
        ""
      ],
      "execution_count": null,
      "outputs": []
    }
  ]
}