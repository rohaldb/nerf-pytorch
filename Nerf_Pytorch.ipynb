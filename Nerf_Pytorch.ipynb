{
  "nbformat": 4,
  "nbformat_minor": 0,
  "metadata": {
    "colab": {
      "name": "Nerf Pytorch.ipynb",
      "provenance": [],
      "collapsed_sections": []
    },
    "kernelspec": {
      "name": "python3",
      "display_name": "Python 3"
    },
    "language_info": {
      "name": "python"
    },
    "accelerator": "GPU"
  },
  "cells": [
    {
      "cell_type": "markdown",
      "metadata": {
        "id": "O_VyiI1VckBL"
      },
      "source": [
        "### Nerf Pytorch\n",
        "This file runs the standard nerf model on a dynamic scene."
      ]
    },
    {
      "cell_type": "code",
      "metadata": {
        "id": "byKfaHAxzLFd"
      },
      "source": [
        "!git clone https://github.com/rohaldb/nerf-pytorch.git\n",
        "%cd nerf-pytorch\n",
        "!pip install -r requirements.txt"
      ],
      "execution_count": null,
      "outputs": []
    },
    {
      "cell_type": "code",
      "metadata": {
        "id": "ubHa_PtiL1Lt"
      },
      "source": [
        "!gdown https://drive.google.com/uc?id=12xA1xKZ7QHBl4-7oK2TyOATkPQk0vIJA\n",
        "!unzip \"nerf_data.zip\"; rm \"nerf_data.zip\""
      ],
      "execution_count": null,
      "outputs": []
    },
    {
      "cell_type": "code",
      "metadata": {
        "id": "dGG6Yyr_Oyif",
        "colab": {
          "base_uri": "https://localhost:8080/"
        },
        "outputId": "eb46ea34-7423-454d-e8ee-25952de916b7"
      },
      "source": [
        "#connect to google drive\n",
        "from google.colab import drive\n",
        "drive.mount('/content/gdrive')"
      ],
      "execution_count": 20,
      "outputs": [
        {
          "output_type": "stream",
          "text": [
            "Mounted at /content/gdrive\n"
          ],
          "name": "stdout"
        }
      ]
    },
    {
      "cell_type": "markdown",
      "metadata": {
        "id": "w5bUBn-jWCnF"
      },
      "source": [
        "### Training a new model"
      ]
    },
    {
      "cell_type": "code",
      "metadata": {
        "id": "RmGzws89MEaF",
        "colab": {
          "base_uri": "https://localhost:8080/"
        },
        "outputId": "c79ade0a-9b9b-4b15-8c3b-7da83d6f8b7b"
      },
      "source": [
        "#train the model\n",
        "!python run_nerf.py --config configs/kid-running.txt --i_weights 1000 --i_testset 10"
      ],
      "execution_count": 28,
      "outputs": [
        {
          "output_type": "stream",
          "text": [
            "factor  None\n",
            "(288, 512, 3, 3)\n",
            "(288, 512, 3)\n",
            "Loaded ./nerf_data/kid-running/dense 16.163508747595625 78.90002467387143\n",
            "(3, 288, 512, 3) (3, 3, 5) (3, 2) (60, 3, 5) [1]\n",
            "Loaded llff (3, 288, 512, 3) (60, 3, 5) [288.      512.      502.22906] ./nerf_data/kid-running/dense\n",
            "DEFINING BOUNDS\n",
            "NEAR FAR 0.0 1.0\n",
            "Found ckpts ['./logs/kid-running_test/020000.tar']\n",
            "Reloading from ./logs/kid-running_test/020000.tar\n",
            "get rays\n",
            "done, concats\n",
            "shuffle rays\n",
            "done\n",
            "Begin\n",
            "TRAIN views are [0 2]\n",
            "TEST views are [1]\n",
            "VAL views are [1]\n",
            "  0% 0/180001 [00:00<?, ?it/s]Saved checkpoints at ./logs/kid-running_test/020000.tar\n",
            "Saving test set\n",
            "test poses shape torch.Size([1, 3, 4])\n",
            "\n",
            "  0% 0/1 [00:00<?, ?it/s]\u001b[A0 0.0002524852752685547\n",
            "torch.Size([288, 512, 3]) torch.Size([288, 512])\n",
            "\n",
            "100% 1/1 [00:04<00:00,  4.63s/it]\n",
            "Saved test set\n",
            "[TRAIN] Iter: 20000 Loss: 0.0009042840683832765  PSNR: 33.462303161621094\n",
            "[TRAIN] Iter: 20100 Loss: 0.0009640819625928998  PSNR: 33.079158782958984\n",
            "[TRAIN] Iter: 20200 Loss: 0.0010695590171962976  PSNR: 32.56276321411133\n",
            "  0% 231/180001 [00:30<5:34:28,  8.96it/s]Traceback (most recent call last):\n",
            "  File \"run_nerf.py\", line 900, in <module>\n",
            "    train()\n",
            "  File \"run_nerf.py\", line 792, in train\n",
            "    loss.backward()\n",
            "  File \"/usr/local/lib/python3.7/dist-packages/torch/_tensor.py\", line 255, in backward\n",
            "    torch.autograd.backward(self, gradient, retain_graph, create_graph, inputs=inputs)\n",
            "  File \"/usr/local/lib/python3.7/dist-packages/torch/autograd/__init__.py\", line 149, in backward\n",
            "    allow_unreachable=True, accumulate_grad=True)  # allow_unreachable flag\n",
            "KeyboardInterrupt\n",
            "  0% 231/180001 [00:30<6:38:46,  7.51it/s]\n"
          ],
          "name": "stdout"
        }
      ]
    },
    {
      "cell_type": "code",
      "metadata": {
        "id": "eaPYQFJoWjC1"
      },
      "source": [
        "#save results\n",
        "%cp -R kid-running_test/* \"/content/gdrive/My Drive/Thesis/Standard Nerf/Training\""
      ],
      "execution_count": null,
      "outputs": []
    },
    {
      "cell_type": "code",
      "metadata": {
        "id": "MmWvEshuWnbg",
        "colab": {
          "base_uri": "https://localhost:8080/"
        },
        "outputId": "5122ab31-45d2-430e-916c-6d81e669267e"
      },
      "source": [
        "%ls \"/content/gdrive/My Drive/Thesis/Standard Nerf/Training\""
      ],
      "execution_count": 21,
      "outputs": [
        {
          "output_type": "stream",
          "text": [
            "020000.tar  config.txt       \u001b[0m\u001b[01;34mtestset_010000\u001b[0m/  \u001b[01;34mtestset_020000\u001b[0m/\n",
            "args.txt    \u001b[01;34mtestset_005000\u001b[0m/  \u001b[01;34mtestset_015000\u001b[0m/\n"
          ],
          "name": "stdout"
        }
      ]
    },
    {
      "cell_type": "markdown",
      "metadata": {
        "id": "yeNKuTt7WF1w"
      },
      "source": [
        "### Eval a pretrained model\n"
      ]
    },
    {
      "cell_type": "code",
      "metadata": {
        "colab": {
          "base_uri": "https://localhost:8080/"
        },
        "id": "DOjb4iKqWIsg",
        "outputId": "a15617f7-0b58-4a6d-f605-70ac36d31cec"
      },
      "source": [
        "#place the tar file in the appropriate place\n",
        "%cd /content/nerf-pytorch/\n",
        "!mkdir -p logs/kid-running_test\n",
        "%cd logs/kid-running_test\n",
        "!gdown https://drive.google.com/uc?id=1AF07qA2b9MdwthJbuhlx6w6GZxgJAP9p"
      ],
      "execution_count": 8,
      "outputs": [
        {
          "output_type": "stream",
          "text": [
            "/content/nerf-pytorch\n",
            "/content/nerf-pytorch/logs/kid-running_test\n",
            "Downloading...\n",
            "From: https://drive.google.com/uc?id=1AF07qA2b9MdwthJbuhlx6w6GZxgJAP9p\n",
            "To: /content/nerf-pytorch/logs/kid-running_test/020000.tar\n",
            "14.3MB [00:00, 225MB/s]\n"
          ],
          "name": "stdout"
        }
      ]
    },
    {
      "cell_type": "code",
      "metadata": {
        "colab": {
          "base_uri": "https://localhost:8080/"
        },
        "id": "kQiOfd3EWTv_",
        "outputId": "292f68ff-e3a2-489f-87fe-29805bfed0ee"
      },
      "source": [
        "%cd /content/nerf-pytorch\n",
        "#remember to change i_test to the appropriate indicies in run_nerf.py\n",
        "!python run_nerf.py --config configs/kid-running.txt --render_only --render_test"
      ],
      "execution_count": 19,
      "outputs": [
        {
          "output_type": "stream",
          "text": [
            "/content/nerf-pytorch\n",
            "factor  None\n",
            "(288, 512, 3, 3)\n",
            "(288, 512, 3)\n",
            "Loaded ./nerf_data/kid-running/dense 16.163508747595625 78.90002467387143\n",
            "(3, 288, 512, 3) (3, 3, 5) (3, 2) (60, 3, 5) [0, 1, 2]\n",
            "Loaded llff (3, 288, 512, 3) (60, 3, 5) [288.      512.      502.22906] ./nerf_data/kid-running/dense\n",
            "DEFINING BOUNDS\n",
            "NEAR FAR 0.0 1.0\n",
            "Found ckpts ['./logs/kid-running_test/020000.tar']\n",
            "Reloading from ./logs/kid-running_test/020000.tar\n",
            "RENDER ONLY\n",
            "test poses shape torch.Size([3, 3, 4])\n",
            "  0% 0/3 [00:00<?, ?it/s]0 0.0010650157928466797\n",
            "torch.Size([288, 512, 3]) torch.Size([288, 512])\n",
            " 33% 1/3 [00:04<00:09,  4.67s/it]1 4.668188095092773\n",
            " 67% 2/3 [00:09<00:04,  4.66s/it]2 4.644984722137451\n",
            "100% 3/3 [00:13<00:00,  4.66s/it]\n",
            "Done rendering ./logs/kid-running_test/renderonly_test_019999\n"
          ],
          "name": "stdout"
        }
      ]
    },
    {
      "cell_type": "code",
      "metadata": {
        "id": "F1F2OA2lXEVC"
      },
      "source": [
        "%cp -R /content/nerf-pytorch/logs/kid-running_test/renderonly_test_019999/* \"/content/gdrive/My Drive/Thesis/Standard Nerf/Eval\""
      ],
      "execution_count": 26,
      "outputs": []
    },
    {
      "cell_type": "code",
      "metadata": {
        "colab": {
          "base_uri": "https://localhost:8080/"
        },
        "id": "N7HW2AIpbaXQ",
        "outputId": "6b56f4df-2042-42df-e622-d4975ced0d17"
      },
      "source": [
        "%ls  \"/content/gdrive/My Drive/Thesis/Standard Nerf/Eval\""
      ],
      "execution_count": 27,
      "outputs": [
        {
          "output_type": "stream",
          "text": [
            "000.png  001.png  002.png  video.mp4\n"
          ],
          "name": "stdout"
        }
      ]
    },
    {
      "cell_type": "code",
      "metadata": {
        "id": "v-dZPIovblb_"
      },
      "source": [
        ""
      ],
      "execution_count": null,
      "outputs": []
    }
  ]
}