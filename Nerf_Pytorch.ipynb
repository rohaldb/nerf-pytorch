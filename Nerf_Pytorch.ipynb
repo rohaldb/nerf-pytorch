{
  "nbformat": 4,
  "nbformat_minor": 0,
  "metadata": {
    "colab": {
      "name": "Nerf Pytorch.ipynb",
      "provenance": [],
      "collapsed_sections": []
    },
    "kernelspec": {
      "name": "python3",
      "display_name": "Python 3"
    },
    "language_info": {
      "name": "python"
    },
    "accelerator": "GPU"
  },
  "cells": [
    {
      "cell_type": "code",
      "metadata": {
        "id": "byKfaHAxzLFd"
      },
      "source": [
        "!git clone https://github.com/rohaldb/nerf-pytorch.git\n",
        "%cd nerf-pytorch\n",
        "!pip install -r requirements.txt"
      ],
      "execution_count": null,
      "outputs": []
    },
    {
      "cell_type": "markdown",
      "metadata": {
        "id": "BiqIvMhNLzn2"
      },
      "source": [
        "### Train dynamic dataset"
      ]
    },
    {
      "cell_type": "code",
      "metadata": {
        "id": "ubHa_PtiL1Lt"
      },
      "source": [
        "!gdown https://drive.google.com/uc?id=12xA1xKZ7QHBl4-7oK2TyOATkPQk0vIJA\n",
        "!unzip \"nerf_data.zip\" \n",
        "!rm \"nerf_data.zip\""
      ],
      "execution_count": null,
      "outputs": []
    },
    {
      "cell_type": "code",
      "metadata": {
        "id": "RmGzws89MEaF"
      },
      "source": [
        "!python run_nerf.py --config configs/kid-running.txt --i_weights 1000 --i_testset 500"
      ],
      "execution_count": null,
      "outputs": []
    },
    {
      "cell_type": "code",
      "metadata": {
        "id": "dGG6Yyr_Oyif"
      },
      "source": [
        "from google.colab import drive\n",
        "drive.mount('/content/gdrive')"
      ],
      "execution_count": null,
      "outputs": []
    },
    {
      "cell_type": "code",
      "metadata": {
        "id": "eaPYQFJoWjC1"
      },
      "source": [
        "%cp -R kid-running_test/* \"/content/gdrive/My Drive/Thesis/Standard Nerf/\""
      ],
      "execution_count": 17,
      "outputs": []
    },
    {
      "cell_type": "code",
      "metadata": {
        "id": "MmWvEshuWnbg"
      },
      "source": [
        "%ls \"/content/gdrive/My Drive/Thesis/Standard Nerf/\""
      ],
      "execution_count": null,
      "outputs": []
    },
    {
      "cell_type": "code",
      "metadata": {
        "id": "iHbDdZzjXIRp"
      },
      "source": [
        ""
      ],
      "execution_count": null,
      "outputs": []
    }
  ]
}