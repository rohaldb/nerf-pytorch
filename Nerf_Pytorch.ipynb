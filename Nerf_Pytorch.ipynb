{
  "nbformat": 4,
  "nbformat_minor": 0,
  "metadata": {
    "colab": {
      "name": "Nerf Pytorch.ipynb",
      "provenance": [],
      "collapsed_sections": []
    },
    "kernelspec": {
      "name": "python3",
      "display_name": "Python 3"
    },
    "language_info": {
      "name": "python"
    },
    "accelerator": "GPU"
  },
  "cells": [
    {
      "cell_type": "markdown",
      "metadata": {
        "id": "O_VyiI1VckBL"
      },
      "source": [
        "### Nerf Pytorch\n",
        "This file runs the standard nerf model on a dynamic scene."
      ]
    },
    {
      "cell_type": "code",
      "metadata": {
        "id": "byKfaHAxzLFd"
      },
      "source": [
        "!git clone https://github.com/rohaldb/nerf-pytorch.git\n",
        "%cd nerf-pytorch\n",
        "!pip install -r requirements.txt"
      ],
      "execution_count": null,
      "outputs": []
    },
    {
      "cell_type": "code",
      "metadata": {
        "id": "ubHa_PtiL1Lt"
      },
      "source": [
        "!gdown https://drive.google.com/uc?id=12xA1xKZ7QHBl4-7oK2TyOATkPQk0vIJA\n",
        "!unzip \"nerf_data.zip\"; rm \"nerf_data.zip\""
      ],
      "execution_count": null,
      "outputs": []
    },
    {
      "cell_type": "code",
      "metadata": {
        "id": "dGG6Yyr_Oyif",
        "colab": {
          "base_uri": "https://localhost:8080/"
        },
        "outputId": "8bf868fa-2b24-4d52-c436-e23db989cc9b"
      },
      "source": [
        "#connect to google drive\n",
        "from google.colab import drive\n",
        "drive.mount('/content/gdrive')"
      ],
      "execution_count": null,
      "outputs": [
        {
          "output_type": "stream",
          "text": [
            "Mounted at /content/gdrive\n"
          ],
          "name": "stdout"
        }
      ]
    },
    {
      "cell_type": "markdown",
      "metadata": {
        "id": "w5bUBn-jWCnF"
      },
      "source": [
        "### Training a new model"
      ]
    },
    {
      "cell_type": "code",
      "metadata": {
        "id": "RmGzws89MEaF"
      },
      "source": [
        "#train the model\n",
        "!python run_nerf.py --config configs/kid-running.txt --i_weights 1000 --i_testset 5000"
      ],
      "execution_count": null,
      "outputs": []
    },
    {
      "cell_type": "code",
      "metadata": {
        "id": "fsPVzIdqCEGX"
      },
      "source": [
        "while True:\n",
        "  pass"
      ],
      "execution_count": null,
      "outputs": []
    },
    {
      "cell_type": "code",
      "metadata": {
        "id": "eaPYQFJoWjC1"
      },
      "source": [
        "#save results\n",
        "#copy results to google drive\n",
        "%cp -R /content/nerf-pytorch/logs/* \"/content/drive/My Drive/Thesis/Standard Nerf/\""
      ],
      "execution_count": 12,
      "outputs": []
    },
    {
      "cell_type": "markdown",
      "metadata": {
        "id": "yeNKuTt7WF1w"
      },
      "source": [
        "### Eval a pretrained model"
      ]
    },
    {
      "cell_type": "code",
      "metadata": {
        "id": "DOjb4iKqWIsg"
      },
      "source": [
        "%cd /content/nerf-pytorch\n",
        "!mkdir -p \"./logs/kid-running_test/\"\n",
        "%cp -R \"/content/gdrive/MyDrive/Thesis/Standard Nerf/kid-running_test/.\" /content/nerf-pytorch/logs/kid-running_test"
      ],
      "execution_count": null,
      "outputs": []
    },
    {
      "cell_type": "code",
      "metadata": {
        "id": "kQiOfd3EWTv_"
      },
      "source": [
        "%cd /content/nerf-pytorch\n",
        "#remember to change i_test to the appropriate indicies in run_nerf.py\n",
        "!python run_nerf.py --config configs/kid-running.txt --render_only --render_test"
      ],
      "execution_count": null,
      "outputs": []
    },
    {
      "cell_type": "code",
      "metadata": {
        "id": "F1F2OA2lXEVC"
      },
      "source": [
        "%cp -R /content/nerf-pytorch/logs/kid-running_test/renderonly_test_009999/* \"/content/gdrive/My Drive/Thesis/Standard Nerf/Eval\""
      ],
      "execution_count": null,
      "outputs": []
    },
    {
      "cell_type": "code",
      "metadata": {
        "id": "5Pc4L0qKYddl"
      },
      "source": [
        ""
      ],
      "execution_count": null,
      "outputs": []
    }
  ]
}