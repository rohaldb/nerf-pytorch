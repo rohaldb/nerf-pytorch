{
 "cells": [
  {
   "cell_type": "code",
   "execution_count": 19,
   "id": "right-ordinance",
   "metadata": {
    "collapsed": true,
    "jupyter": {
     "outputs_hidden": true
    }
   },
   "outputs": [
    {
     "name": "stdout",
     "output_type": "stream",
     "text": [
      "Collecting torch>=1.8\n",
      "  Downloading torch-1.9.0-cp37-none-macosx_10_9_x86_64.whl (127.9 MB)\n",
      "\u001b[K     |████████████████████████████████| 127.9 MB 9.9 MB/s eta 0:00:011\n",
      "\u001b[?25hCollecting torchvision>=0.9.1\n",
      "  Downloading torchvision-0.10.0-cp37-cp37m-macosx_10_9_x86_64.whl (13.9 MB)\n",
      "\u001b[K     |████████████████████████████████| 13.9 MB 13.7 MB/s eta 0:00:01\n",
      "\u001b[?25hRequirement already satisfied: imageio in /Users/Benjamin/anaconda3/envs/nerf/lib/python3.7/site-packages (from -r requirements.txt (line 3)) (2.9.0)\n",
      "Requirement already satisfied: imageio-ffmpeg in /Users/Benjamin/anaconda3/envs/nerf/lib/python3.7/site-packages (from -r requirements.txt (line 4)) (0.4.4)\n",
      "Requirement already satisfied: matplotlib in /Users/Benjamin/anaconda3/envs/nerf/lib/python3.7/site-packages (from -r requirements.txt (line 5)) (3.4.2)\n",
      "Requirement already satisfied: configargparse in /Users/Benjamin/anaconda3/envs/nerf/lib/python3.7/site-packages (from -r requirements.txt (line 6)) (1.4.1)\n",
      "Requirement already satisfied: tensorboard>=2.0 in /Users/Benjamin/anaconda3/envs/nerf/lib/python3.7/site-packages (from -r requirements.txt (line 7)) (2.4.1)\n",
      "Requirement already satisfied: tqdm in /Users/Benjamin/anaconda3/envs/nerf/lib/python3.7/site-packages (from -r requirements.txt (line 8)) (4.59.0)\n",
      "Collecting opencv-python\n",
      "  Downloading opencv_python-4.5.2.54-cp37-cp37m-macosx_10_15_x86_64.whl (43.7 MB)\n",
      "\u001b[K     |████████████████████████████████| 43.7 MB 1.4 MB/s eta 0:00:011\n",
      "\u001b[?25hRequirement already satisfied: typing-extensions in /Users/Benjamin/anaconda3/envs/nerf/lib/python3.7/site-packages (from torch>=1.8->-r requirements.txt (line 1)) (3.7.4.3)\n",
      "Requirement already satisfied: numpy in /Users/Benjamin/anaconda3/envs/nerf/lib/python3.7/site-packages (from torchvision>=0.9.1->-r requirements.txt (line 2)) (1.20.3)\n",
      "Requirement already satisfied: pillow>=5.3.0 in /Users/Benjamin/anaconda3/envs/nerf/lib/python3.7/site-packages (from torchvision>=0.9.1->-r requirements.txt (line 2)) (8.2.0)\n",
      "Requirement already satisfied: absl-py>=0.4 in /Users/Benjamin/anaconda3/envs/nerf/lib/python3.7/site-packages (from tensorboard>=2.0->-r requirements.txt (line 7)) (0.12.0)\n",
      "Requirement already satisfied: requests<3,>=2.21.0 in /Users/Benjamin/anaconda3/envs/nerf/lib/python3.7/site-packages (from tensorboard>=2.0->-r requirements.txt (line 7)) (2.25.1)\n",
      "Requirement already satisfied: google-auth<2,>=1.6.3 in /Users/Benjamin/anaconda3/envs/nerf/lib/python3.7/site-packages (from tensorboard>=2.0->-r requirements.txt (line 7)) (1.30.0)\n",
      "Requirement already satisfied: werkzeug>=0.11.15 in /Users/Benjamin/anaconda3/envs/nerf/lib/python3.7/site-packages (from tensorboard>=2.0->-r requirements.txt (line 7)) (2.0.1)\n",
      "Requirement already satisfied: tensorboard-plugin-wit>=1.6.0 in /Users/Benjamin/anaconda3/envs/nerf/lib/python3.7/site-packages (from tensorboard>=2.0->-r requirements.txt (line 7)) (1.8.0)\n",
      "Requirement already satisfied: wheel>=0.26 in /Users/Benjamin/anaconda3/envs/nerf/lib/python3.7/site-packages (from tensorboard>=2.0->-r requirements.txt (line 7)) (0.36.2)\n",
      "Requirement already satisfied: google-auth-oauthlib<0.5,>=0.4.1 in /Users/Benjamin/anaconda3/envs/nerf/lib/python3.7/site-packages (from tensorboard>=2.0->-r requirements.txt (line 7)) (0.4.1)\n",
      "Requirement already satisfied: setuptools>=41.0.0 in /Users/Benjamin/anaconda3/envs/nerf/lib/python3.7/site-packages (from tensorboard>=2.0->-r requirements.txt (line 7)) (49.6.0.post20210108)\n",
      "Requirement already satisfied: markdown>=2.6.8 in /Users/Benjamin/anaconda3/envs/nerf/lib/python3.7/site-packages (from tensorboard>=2.0->-r requirements.txt (line 7)) (3.3.4)\n",
      "Requirement already satisfied: six>=1.10.0 in /Users/Benjamin/anaconda3/envs/nerf/lib/python3.7/site-packages (from tensorboard>=2.0->-r requirements.txt (line 7)) (1.16.0)\n",
      "Requirement already satisfied: protobuf>=3.6.0 in /Users/Benjamin/anaconda3/envs/nerf/lib/python3.7/site-packages (from tensorboard>=2.0->-r requirements.txt (line 7)) (3.15.8)\n",
      "Requirement already satisfied: grpcio>=1.24.3 in /Users/Benjamin/anaconda3/envs/nerf/lib/python3.7/site-packages (from tensorboard>=2.0->-r requirements.txt (line 7)) (1.37.1)\n",
      "Requirement already satisfied: rsa<5,>=3.1.4 in /Users/Benjamin/anaconda3/envs/nerf/lib/python3.7/site-packages (from google-auth<2,>=1.6.3->tensorboard>=2.0->-r requirements.txt (line 7)) (4.7.2)\n",
      "Requirement already satisfied: pyasn1-modules>=0.2.1 in /Users/Benjamin/anaconda3/envs/nerf/lib/python3.7/site-packages (from google-auth<2,>=1.6.3->tensorboard>=2.0->-r requirements.txt (line 7)) (0.2.7)\n",
      "Requirement already satisfied: cachetools<5.0,>=2.0.0 in /Users/Benjamin/anaconda3/envs/nerf/lib/python3.7/site-packages (from google-auth<2,>=1.6.3->tensorboard>=2.0->-r requirements.txt (line 7)) (4.2.2)\n",
      "Requirement already satisfied: requests-oauthlib>=0.7.0 in /Users/Benjamin/anaconda3/envs/nerf/lib/python3.7/site-packages (from google-auth-oauthlib<0.5,>=0.4.1->tensorboard>=2.0->-r requirements.txt (line 7)) (1.3.0)\n",
      "Requirement already satisfied: importlib-metadata in /Users/Benjamin/anaconda3/envs/nerf/lib/python3.7/site-packages (from markdown>=2.6.8->tensorboard>=2.0->-r requirements.txt (line 7)) (4.4.0)\n",
      "Requirement already satisfied: pyasn1<0.5.0,>=0.4.6 in /Users/Benjamin/anaconda3/envs/nerf/lib/python3.7/site-packages (from pyasn1-modules>=0.2.1->google-auth<2,>=1.6.3->tensorboard>=2.0->-r requirements.txt (line 7)) (0.4.8)\n",
      "Requirement already satisfied: idna<3,>=2.5 in /Users/Benjamin/anaconda3/envs/nerf/lib/python3.7/site-packages (from requests<3,>=2.21.0->tensorboard>=2.0->-r requirements.txt (line 7)) (2.10)\n",
      "Requirement already satisfied: certifi>=2017.4.17 in /Users/Benjamin/anaconda3/envs/nerf/lib/python3.7/site-packages (from requests<3,>=2.21.0->tensorboard>=2.0->-r requirements.txt (line 7)) (2021.5.30)\n",
      "Requirement already satisfied: chardet<5,>=3.0.2 in /Users/Benjamin/anaconda3/envs/nerf/lib/python3.7/site-packages (from requests<3,>=2.21.0->tensorboard>=2.0->-r requirements.txt (line 7)) (4.0.0)\n",
      "Requirement already satisfied: urllib3<1.27,>=1.21.1 in /Users/Benjamin/anaconda3/envs/nerf/lib/python3.7/site-packages (from requests<3,>=2.21.0->tensorboard>=2.0->-r requirements.txt (line 7)) (1.26.5)\n",
      "Requirement already satisfied: oauthlib>=3.0.0 in /Users/Benjamin/anaconda3/envs/nerf/lib/python3.7/site-packages (from requests-oauthlib>=0.7.0->google-auth-oauthlib<0.5,>=0.4.1->tensorboard>=2.0->-r requirements.txt (line 7)) (3.1.0)\n",
      "Requirement already satisfied: python-dateutil>=2.7 in /Users/Benjamin/anaconda3/envs/nerf/lib/python3.7/site-packages (from matplotlib->-r requirements.txt (line 5)) (2.8.1)\n",
      "Requirement already satisfied: pyparsing>=2.2.1 in /Users/Benjamin/anaconda3/envs/nerf/lib/python3.7/site-packages (from matplotlib->-r requirements.txt (line 5)) (2.4.7)\n",
      "Requirement already satisfied: cycler>=0.10 in /Users/Benjamin/anaconda3/envs/nerf/lib/python3.7/site-packages (from matplotlib->-r requirements.txt (line 5)) (0.10.0)\n",
      "Requirement already satisfied: kiwisolver>=1.0.1 in /Users/Benjamin/anaconda3/envs/nerf/lib/python3.7/site-packages (from matplotlib->-r requirements.txt (line 5)) (1.3.1)\n",
      "Requirement already satisfied: zipp>=0.5 in /Users/Benjamin/anaconda3/envs/nerf/lib/python3.7/site-packages (from importlib-metadata->markdown>=2.6.8->tensorboard>=2.0->-r requirements.txt (line 7)) (3.4.1)\n",
      "Installing collected packages: torch, torchvision, opencv-python\n",
      "  Attempting uninstall: torch\n",
      "    Found existing installation: torch 1.4.0\n",
      "    Uninstalling torch-1.4.0:\n",
      "      Successfully uninstalled torch-1.4.0\n",
      "Successfully installed opencv-python-4.5.2.54 torch-1.9.0 torchvision-0.10.0\n",
      "Note: you may need to restart the kernel to use updated packages.\n"
     ]
    }
   ],
   "source": [
    "%pip install -r requirements.txt"
   ]
  },
  {
   "cell_type": "code",
   "execution_count": null,
   "id": "medical-cassette",
   "metadata": {},
   "outputs": [],
   "source": [
    "!gdown https://drive.google.com/uc?id=12xA1xKZ7QHBl4-7oK2TyOATkPQk0vIJA\n",
    "!unzip \"nerf_data.zip\" \n",
    "!rm \"nerf_data.zip\""
   ]
  },
  {
   "cell_type": "code",
   "execution_count": 61,
   "id": "drawn-motivation",
   "metadata": {
    "collapsed": true,
    "jupyter": {
     "outputs_hidden": true
    }
   },
   "outputs": [
    {
     "name": "stdout",
     "output_type": "stream",
     "text": [
      "factor  None\n",
      "(288, 512, 3, 3)\n",
      "(288, 512, 3)\n",
      "Loaded ./nerf_data/kid-running/dense 16.163508747595625 78.90002467387143\n",
      "(3, 288, 512, 3) (3, 3, 5) (3, 2) (1, 3, 5) [1]\n",
      "Loaded llff (3, 288, 512, 3) (1, 3, 5) [288.      512.      502.22906] ./nerf_data/kid-running/dense\n",
      "DEFINING BOUNDS\n",
      "NEAR FAR 0.0 1.0\n",
      "Found ckpts []\n",
      "get rays\n",
      "done, concats\n",
      "shuffle rays\n",
      "done\n",
      "Begin\n",
      "TRAIN views are [0 2]\n",
      "TEST views are [1]\n",
      "VAL views are [1]\n",
      "  0%|                                    | 9/200000 [02:08<792:28:08, 14.27s/it]Saved checkpoints at ./logs/kid-running_test/000010.tar\n",
      "Saving video\n",
      "\n",
      "  0%|                                                     | 0/1 [00:00<?, ?it/s]\u001b[A0 0.0004329681396484375\n",
      "torch.Size([288, 512, 3]) torch.Size([288, 512])\n",
      "\n",
      "100%|████████████████████████████████████████████| 1/1 [09:35<00:00, 575.40s/it]\u001b[A\n",
      "Done, saving (1, 288, 512, 3) (1, 288, 512)\n",
      "Saving test set\n",
      "test poses shape torch.Size([1, 3, 4])\n",
      "\n",
      "  0%|                                                     | 0/1 [00:00<?, ?it/s]\u001b[A0 0.0009019374847412109\n",
      "^C\n",
      "  0%|                                                     | 0/1 [07:13<?, ?it/s]\n",
      "  0%|                                  | 9/200000 [19:13<7120:43:54, 128.18s/it]\n",
      "Traceback (most recent call last):\n",
      "  File \"run_nerf.py\", line 899, in <module>\n",
      "    \n",
      "  File \"run_nerf.py\", line 841, in train\n",
      "    with torch.no_grad():\n",
      "  File \"run_nerf.py\", line 155, in render_path\n",
      "    rgb, disp, acc, _ = render(H, W, K, chunk=chunk, c2w=c2w[:3,:4], **render_kwargs)\n",
      "  File \"run_nerf.py\", line 127, in render\n",
      "    all_ret = batchify_rays(rays, chunk, **kwargs)\n",
      "  File \"run_nerf.py\", line 60, in batchify_rays\n",
      "    ret = render_rays(rays_flat[i:i+chunk], **kwargs)\n",
      "  File \"run_nerf.py\", line 402, in render_rays\n",
      "    raw = network_query_fn(pts, viewdirs, run_fn)\n",
      "  File \"run_nerf.py\", line 205, in <lambda>\n",
      "    netchunk=args.netchunk)\n",
      "  File \"run_nerf.py\", line 50, in run_network\n",
      "    outputs_flat = batchify(fn, netchunk)(embedded)\n",
      "  File \"run_nerf.py\", line 34, in ret\n",
      "    return torch.cat([fn(inputs[i:i+chunk]) for i in range(0, inputs.shape[0], chunk)], 0)\n",
      "  File \"run_nerf.py\", line 34, in <listcomp>\n",
      "    return torch.cat([fn(inputs[i:i+chunk]) for i in range(0, inputs.shape[0], chunk)], 0)\n",
      "  File \"/Users/Benjamin/anaconda3/envs/ml/lib/python3.6/site-packages/torch/nn/modules/module.py\", line 889, in _call_impl\n",
      "    result = self.forward(*input, **kwargs)\n",
      "  File \"/Users/Benjamin/University/Postgrad/Thesis/nerf-pytorch/run_nerf_helpers.py\", line 111, in forward\n",
      "    h = self.views_linears[i](h)\n",
      "  File \"/Users/Benjamin/anaconda3/envs/ml/lib/python3.6/site-packages/torch/nn/modules/module.py\", line 889, in _call_impl\n",
      "    result = self.forward(*input, **kwargs)\n",
      "  File \"/Users/Benjamin/anaconda3/envs/ml/lib/python3.6/site-packages/torch/nn/modules/linear.py\", line 94, in forward\n",
      "    return F.linear(input, self.weight, self.bias)\n",
      "  File \"/Users/Benjamin/anaconda3/envs/ml/lib/python3.6/site-packages/torch/nn/functional.py\", line 1753, in linear\n",
      "    return torch._C._nn.linear(input, weight, bias)\n",
      "KeyboardInterrupt\n"
     ]
    }
   ],
   "source": [
    "!python run_nerf.py --config configs/kid-running.txt --i_weights 10 --i_testset 10 --i_video 10"
   ]
  },
  {
   "cell_type": "code",
   "execution_count": null,
   "id": "demanding-administrator",
   "metadata": {},
   "outputs": [],
   "source": []
  }
 ],
 "metadata": {
  "kernelspec": {
   "display_name": "nerf",
   "language": "python",
   "name": "nerf"
  },
  "language_info": {
   "codemirror_mode": {
    "name": "ipython",
    "version": 3
   },
   "file_extension": ".py",
   "mimetype": "text/x-python",
   "name": "python",
   "nbconvert_exporter": "python",
   "pygments_lexer": "ipython3",
   "version": "3.7.10"
  }
 },
 "nbformat": 4,
 "nbformat_minor": 5
}
