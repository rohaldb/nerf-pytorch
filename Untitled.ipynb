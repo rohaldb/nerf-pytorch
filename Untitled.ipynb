{
 "cells": [
  {
   "cell_type": "code",
   "execution_count": 19,
   "id": "loaded-lexington",
   "metadata": {
    "collapsed": true,
    "jupyter": {
     "outputs_hidden": true
    }
   },
   "outputs": [
    {
     "name": "stdout",
     "output_type": "stream",
     "text": [
      "Collecting torch>=1.8\n",
      "  Downloading torch-1.9.0-cp37-none-macosx_10_9_x86_64.whl (127.9 MB)\n",
      "\u001b[K     |████████████████████████████████| 127.9 MB 9.9 MB/s eta 0:00:011\n",
      "\u001b[?25hCollecting torchvision>=0.9.1\n",
      "  Downloading torchvision-0.10.0-cp37-cp37m-macosx_10_9_x86_64.whl (13.9 MB)\n",
      "\u001b[K     |████████████████████████████████| 13.9 MB 13.7 MB/s eta 0:00:01\n",
      "\u001b[?25hRequirement already satisfied: imageio in /Users/Benjamin/anaconda3/envs/nerf/lib/python3.7/site-packages (from -r requirements.txt (line 3)) (2.9.0)\n",
      "Requirement already satisfied: imageio-ffmpeg in /Users/Benjamin/anaconda3/envs/nerf/lib/python3.7/site-packages (from -r requirements.txt (line 4)) (0.4.4)\n",
      "Requirement already satisfied: matplotlib in /Users/Benjamin/anaconda3/envs/nerf/lib/python3.7/site-packages (from -r requirements.txt (line 5)) (3.4.2)\n",
      "Requirement already satisfied: configargparse in /Users/Benjamin/anaconda3/envs/nerf/lib/python3.7/site-packages (from -r requirements.txt (line 6)) (1.4.1)\n",
      "Requirement already satisfied: tensorboard>=2.0 in /Users/Benjamin/anaconda3/envs/nerf/lib/python3.7/site-packages (from -r requirements.txt (line 7)) (2.4.1)\n",
      "Requirement already satisfied: tqdm in /Users/Benjamin/anaconda3/envs/nerf/lib/python3.7/site-packages (from -r requirements.txt (line 8)) (4.59.0)\n",
      "Collecting opencv-python\n",
      "  Downloading opencv_python-4.5.2.54-cp37-cp37m-macosx_10_15_x86_64.whl (43.7 MB)\n",
      "\u001b[K     |████████████████████████████████| 43.7 MB 1.4 MB/s eta 0:00:011\n",
      "\u001b[?25hRequirement already satisfied: typing-extensions in /Users/Benjamin/anaconda3/envs/nerf/lib/python3.7/site-packages (from torch>=1.8->-r requirements.txt (line 1)) (3.7.4.3)\n",
      "Requirement already satisfied: numpy in /Users/Benjamin/anaconda3/envs/nerf/lib/python3.7/site-packages (from torchvision>=0.9.1->-r requirements.txt (line 2)) (1.20.3)\n",
      "Requirement already satisfied: pillow>=5.3.0 in /Users/Benjamin/anaconda3/envs/nerf/lib/python3.7/site-packages (from torchvision>=0.9.1->-r requirements.txt (line 2)) (8.2.0)\n",
      "Requirement already satisfied: absl-py>=0.4 in /Users/Benjamin/anaconda3/envs/nerf/lib/python3.7/site-packages (from tensorboard>=2.0->-r requirements.txt (line 7)) (0.12.0)\n",
      "Requirement already satisfied: requests<3,>=2.21.0 in /Users/Benjamin/anaconda3/envs/nerf/lib/python3.7/site-packages (from tensorboard>=2.0->-r requirements.txt (line 7)) (2.25.1)\n",
      "Requirement already satisfied: google-auth<2,>=1.6.3 in /Users/Benjamin/anaconda3/envs/nerf/lib/python3.7/site-packages (from tensorboard>=2.0->-r requirements.txt (line 7)) (1.30.0)\n",
      "Requirement already satisfied: werkzeug>=0.11.15 in /Users/Benjamin/anaconda3/envs/nerf/lib/python3.7/site-packages (from tensorboard>=2.0->-r requirements.txt (line 7)) (2.0.1)\n",
      "Requirement already satisfied: tensorboard-plugin-wit>=1.6.0 in /Users/Benjamin/anaconda3/envs/nerf/lib/python3.7/site-packages (from tensorboard>=2.0->-r requirements.txt (line 7)) (1.8.0)\n",
      "Requirement already satisfied: wheel>=0.26 in /Users/Benjamin/anaconda3/envs/nerf/lib/python3.7/site-packages (from tensorboard>=2.0->-r requirements.txt (line 7)) (0.36.2)\n",
      "Requirement already satisfied: google-auth-oauthlib<0.5,>=0.4.1 in /Users/Benjamin/anaconda3/envs/nerf/lib/python3.7/site-packages (from tensorboard>=2.0->-r requirements.txt (line 7)) (0.4.1)\n",
      "Requirement already satisfied: setuptools>=41.0.0 in /Users/Benjamin/anaconda3/envs/nerf/lib/python3.7/site-packages (from tensorboard>=2.0->-r requirements.txt (line 7)) (49.6.0.post20210108)\n",
      "Requirement already satisfied: markdown>=2.6.8 in /Users/Benjamin/anaconda3/envs/nerf/lib/python3.7/site-packages (from tensorboard>=2.0->-r requirements.txt (line 7)) (3.3.4)\n",
      "Requirement already satisfied: six>=1.10.0 in /Users/Benjamin/anaconda3/envs/nerf/lib/python3.7/site-packages (from tensorboard>=2.0->-r requirements.txt (line 7)) (1.16.0)\n",
      "Requirement already satisfied: protobuf>=3.6.0 in /Users/Benjamin/anaconda3/envs/nerf/lib/python3.7/site-packages (from tensorboard>=2.0->-r requirements.txt (line 7)) (3.15.8)\n",
      "Requirement already satisfied: grpcio>=1.24.3 in /Users/Benjamin/anaconda3/envs/nerf/lib/python3.7/site-packages (from tensorboard>=2.0->-r requirements.txt (line 7)) (1.37.1)\n",
      "Requirement already satisfied: rsa<5,>=3.1.4 in /Users/Benjamin/anaconda3/envs/nerf/lib/python3.7/site-packages (from google-auth<2,>=1.6.3->tensorboard>=2.0->-r requirements.txt (line 7)) (4.7.2)\n",
      "Requirement already satisfied: pyasn1-modules>=0.2.1 in /Users/Benjamin/anaconda3/envs/nerf/lib/python3.7/site-packages (from google-auth<2,>=1.6.3->tensorboard>=2.0->-r requirements.txt (line 7)) (0.2.7)\n",
      "Requirement already satisfied: cachetools<5.0,>=2.0.0 in /Users/Benjamin/anaconda3/envs/nerf/lib/python3.7/site-packages (from google-auth<2,>=1.6.3->tensorboard>=2.0->-r requirements.txt (line 7)) (4.2.2)\n",
      "Requirement already satisfied: requests-oauthlib>=0.7.0 in /Users/Benjamin/anaconda3/envs/nerf/lib/python3.7/site-packages (from google-auth-oauthlib<0.5,>=0.4.1->tensorboard>=2.0->-r requirements.txt (line 7)) (1.3.0)\n",
      "Requirement already satisfied: importlib-metadata in /Users/Benjamin/anaconda3/envs/nerf/lib/python3.7/site-packages (from markdown>=2.6.8->tensorboard>=2.0->-r requirements.txt (line 7)) (4.4.0)\n",
      "Requirement already satisfied: pyasn1<0.5.0,>=0.4.6 in /Users/Benjamin/anaconda3/envs/nerf/lib/python3.7/site-packages (from pyasn1-modules>=0.2.1->google-auth<2,>=1.6.3->tensorboard>=2.0->-r requirements.txt (line 7)) (0.4.8)\n",
      "Requirement already satisfied: idna<3,>=2.5 in /Users/Benjamin/anaconda3/envs/nerf/lib/python3.7/site-packages (from requests<3,>=2.21.0->tensorboard>=2.0->-r requirements.txt (line 7)) (2.10)\n",
      "Requirement already satisfied: certifi>=2017.4.17 in /Users/Benjamin/anaconda3/envs/nerf/lib/python3.7/site-packages (from requests<3,>=2.21.0->tensorboard>=2.0->-r requirements.txt (line 7)) (2021.5.30)\n",
      "Requirement already satisfied: chardet<5,>=3.0.2 in /Users/Benjamin/anaconda3/envs/nerf/lib/python3.7/site-packages (from requests<3,>=2.21.0->tensorboard>=2.0->-r requirements.txt (line 7)) (4.0.0)\n",
      "Requirement already satisfied: urllib3<1.27,>=1.21.1 in /Users/Benjamin/anaconda3/envs/nerf/lib/python3.7/site-packages (from requests<3,>=2.21.0->tensorboard>=2.0->-r requirements.txt (line 7)) (1.26.5)\n",
      "Requirement already satisfied: oauthlib>=3.0.0 in /Users/Benjamin/anaconda3/envs/nerf/lib/python3.7/site-packages (from requests-oauthlib>=0.7.0->google-auth-oauthlib<0.5,>=0.4.1->tensorboard>=2.0->-r requirements.txt (line 7)) (3.1.0)\n",
      "Requirement already satisfied: python-dateutil>=2.7 in /Users/Benjamin/anaconda3/envs/nerf/lib/python3.7/site-packages (from matplotlib->-r requirements.txt (line 5)) (2.8.1)\n",
      "Requirement already satisfied: pyparsing>=2.2.1 in /Users/Benjamin/anaconda3/envs/nerf/lib/python3.7/site-packages (from matplotlib->-r requirements.txt (line 5)) (2.4.7)\n",
      "Requirement already satisfied: cycler>=0.10 in /Users/Benjamin/anaconda3/envs/nerf/lib/python3.7/site-packages (from matplotlib->-r requirements.txt (line 5)) (0.10.0)\n",
      "Requirement already satisfied: kiwisolver>=1.0.1 in /Users/Benjamin/anaconda3/envs/nerf/lib/python3.7/site-packages (from matplotlib->-r requirements.txt (line 5)) (1.3.1)\n",
      "Requirement already satisfied: zipp>=0.5 in /Users/Benjamin/anaconda3/envs/nerf/lib/python3.7/site-packages (from importlib-metadata->markdown>=2.6.8->tensorboard>=2.0->-r requirements.txt (line 7)) (3.4.1)\n",
      "Installing collected packages: torch, torchvision, opencv-python\n",
      "  Attempting uninstall: torch\n",
      "    Found existing installation: torch 1.4.0\n",
      "    Uninstalling torch-1.4.0:\n",
      "      Successfully uninstalled torch-1.4.0\n",
      "Successfully installed opencv-python-4.5.2.54 torch-1.9.0 torchvision-0.10.0\n",
      "Note: you may need to restart the kernel to use updated packages.\n"
     ]
    }
   ],
   "source": [
    "%pip install -r requirements.txt"
   ]
  },
  {
   "cell_type": "code",
   "execution_count": 48,
   "id": "italian-translation",
   "metadata": {},
   "outputs": [
    {
     "name": "stdout",
     "output_type": "stream",
     "text": [
      "The autoreload extension is already loaded. To reload it, use:\n",
      "  %reload_ext autoreload\n"
     ]
    },
    {
     "name": "stderr",
     "output_type": "stream",
     "text": [
      "usage: ipykernel_launcher.py [-h] [--config CONFIG] [--expname EXPNAME]\n",
      "                             [--basedir BASEDIR] [--datadir DATADIR]\n",
      "                             [--netdepth NETDEPTH] [--netwidth NETWIDTH]\n",
      "                             [--netdepth_fine NETDEPTH_FINE]\n",
      "                             [--netwidth_fine NETWIDTH_FINE] [--N_rand N_RAND]\n",
      "                             [--lrate LRATE] [--lrate_decay LRATE_DECAY]\n",
      "                             [--chunk CHUNK] [--netchunk NETCHUNK]\n",
      "                             [--no_batching] [--no_reload] [--ft_path FT_PATH]\n",
      "                             [--N_samples N_SAMPLES]\n",
      "                             [--N_importance N_IMPORTANCE] [--perturb PERTURB]\n",
      "                             [--use_viewdirs] [--i_embed I_EMBED]\n",
      "                             [--multires MULTIRES]\n",
      "                             [--multires_views MULTIRES_VIEWS]\n",
      "                             [--raw_noise_std RAW_NOISE_STD] [--render_only]\n",
      "                             [--render_test] [--render_factor RENDER_FACTOR]\n",
      "                             [--precrop_iters PRECROP_ITERS]\n",
      "                             [--precrop_frac PRECROP_FRAC]\n",
      "                             [--dataset_type DATASET_TYPE]\n",
      "                             [--testskip TESTSKIP] [--shape SHAPE]\n",
      "                             [--white_bkgd] [--half_res] [--factor FACTOR]\n",
      "                             [--no_ndc] [--lindisp] [--spherify]\n",
      "                             [--llffhold LLFFHOLD] [--i_print I_PRINT]\n",
      "                             [--i_img I_IMG] [--i_weights I_WEIGHTS]\n",
      "                             [--i_testset I_TESTSET] [--i_video I_VIDEO]\n",
      "ipykernel_launcher.py: error: unrecognized arguments: -f /Users/Benjamin/Library/Jupyter/runtime/kernel-50a80f6a-964d-4289-8529-c2738517d321.json\n"
     ]
    },
    {
     "ename": "SystemExit",
     "evalue": "2",
     "output_type": "error",
     "traceback": [
      "An exception has occurred, use %tb to see the full traceback.\n",
      "\u001b[0;31mSystemExit\u001b[0m\u001b[0;31m:\u001b[0m 2\n"
     ]
    }
   ],
   "source": [
    "%load_ext autoreload\n",
    "%autoreload 2\n",
    "import run_nerf\n",
    "run_nerf.train()"
   ]
  },
  {
   "cell_type": "code",
   "execution_count": 57,
   "id": "satellite-silver",
   "metadata": {},
   "outputs": [
    {
     "name": "stdout",
     "output_type": "stream",
     "text": [
      "factor  None\n",
      "(288, 512, 3, 3)\n",
      "(288, 512, 3)\n",
      "Loaded ./data/kid-running/dense 16.163508747595625 78.90002467387143\n",
      "(3, 288, 512, 3) (3, 3, 5) (3, 2) (60, 3, 5) [1]\n",
      "Loaded llff (3, 288, 512, 3) (60, 3, 5) [288.      512.      502.22906] ./data/kid-running/dense\n",
      "DEFINING BOUNDS\n",
      "NEAR FAR 0.0 1.0\n",
      "Found ckpts []\n",
      "get rays\n",
      "done, concats\n",
      "shuffle rays\n",
      "done\n",
      "Begin\n",
      "TRAIN views are [0 2]\n",
      "TEST views are [1]\n",
      "VAL views are [1]\n",
      "  0%|                                    | 2/200000 [00:28<782:40:50, 14.09s/it]^C\n"
     ]
    }
   ],
   "source": [
    "!python run_nerf.py --config configs/kid-running.txt"
   ]
  },
  {
   "cell_type": "code",
   "execution_count": null,
   "id": "further-darkness",
   "metadata": {},
   "outputs": [],
   "source": []
  }
 ],
 "metadata": {
  "kernelspec": {
   "display_name": "nerf",
   "language": "python",
   "name": "nerf"
  },
  "language_info": {
   "codemirror_mode": {
    "name": "ipython",
    "version": 3
   },
   "file_extension": ".py",
   "mimetype": "text/x-python",
   "name": "python",
   "nbconvert_exporter": "python",
   "pygments_lexer": "ipython3",
   "version": "3.7.10"
  }
 },
 "nbformat": 4,
 "nbformat_minor": 5
}
